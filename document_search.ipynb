{
 "cells": [
  {
   "cell_type": "code",
   "execution_count": 1,
   "metadata": {},
   "outputs": [],
   "source": [
    "from langchain.vectorstores import FAISS\n",
    "from langchain_openai import AzureOpenAIEmbeddings\n",
    "from langchain import PromptTemplate, LLMChain\n",
    "from langchain.document_loaders import PyPDFLoader\n",
    "from openai import AzureOpenAI\n",
    "import os"
   ]
  },
  {
   "cell_type": "code",
   "execution_count": 2,
   "metadata": {},
   "outputs": [],
   "source": [
    "def get_document_information(question: str) -> str:\n",
    "    \"\"\"Use this tool to get information about the QRISK3 method for cardiovascular risk prediction.\n",
    "     \n",
    "    The input to the function is a question, such as \"Why is corticosteroids included in the QRISK3 prediction model?\"\n",
    "    The function returns a string containing the reasons explaining the answer.\n",
    "    \"\"\"\n",
    "    loader = PyPDFLoader(\"rag_docs/Cadillac_CTS.pdf\")\n",
    "    pages = loader.load_and_split()\n",
    "\n",
    "    embeddings = AzureOpenAIEmbeddings(\n",
    "        azure_deployment=\"MIMIC_text_embedding\",\n",
    "        openai_api_version=\"2024-02-15-preview\",\n",
    "    )\n",
    "\n",
    "    faiss_index = FAISS.from_documents(pages, embeddings)\n",
    "    docs = faiss_index.similarity_search(question)\n",
    "    # Get the best matched page\n",
    "    full_text = docs[0].page_content\n",
    "\n",
    "    # Summarize the information\n",
    "    prompt = f\"\"\"Using the following information below, you are asked to provide answers to the question: {question}?\n",
    "\n",
    "    {full_text}\n",
    "\n",
    "    Answer:\"\"\"\n",
    "    \n",
    "    client = client = AzureOpenAI(\n",
    "    api_key=os.getenv(\"AZURE_OPENAI_API_KEY\"),  \n",
    "    api_version=\"2024-02-15-preview\",\n",
    "    azure_endpoint = os.getenv(\"AZURE_OPENAI_ENDPOINT\")\n",
    "    )\n",
    "    \n",
    "    response = client.chat.completions.create(\n",
    "        model=\"MIMIC\",\n",
    "        messages=[\n",
    "            {\"role\": \"system\", \"content\": f\"{prompt}\"},\n",
    "            {\"role\": \"user\", \"content\": f\"{full_text}\"}\n",
    "        ]\n",
    "    )\n",
    "\n",
    "    answer = response.choices[0].message.content\n",
    "\n",
    "    return answer"
   ]
  },
  {
   "cell_type": "code",
   "execution_count": 3,
   "metadata": {},
   "outputs": [
    {
     "data": {
      "text/plain": [
       "'No, the Cadillac CTS is no longer in production as of 2019. It was replaced by the Cadillac CT5.'"
      ]
     },
     "execution_count": 3,
     "metadata": {},
     "output_type": "execute_result"
    }
   ],
   "source": [
    "get_document_information(\"Is Cadillac CTS still in production?\")"
   ]
  },
  {
   "cell_type": "code",
   "execution_count": 4,
   "metadata": {},
   "outputs": [
    {
     "data": {
      "text/plain": [
       "\"Based on the provided information, there is no direct mention or evidence to support a statement about the quality of Audi as a car brand. The information consists of articles and mentions related to the Cadillac CTS, including its recognition and awards from Motor Trend magazine. Therefore, it is not possible to provide a definitive answer to the question about Audi's reputation as a good car brand based on this information.\""
      ]
     },
     "execution_count": 4,
     "metadata": {},
     "output_type": "execute_result"
    }
   ],
   "source": [
    "get_document_information(\"Is Audi a good car brand?\")"
   ]
  }
 ],
 "metadata": {
  "kernelspec": {
   "display_name": "Python 3",
   "language": "python",
   "name": "python3"
  },
  "language_info": {
   "codemirror_mode": {
    "name": "ipython",
    "version": 3
   },
   "file_extension": ".py",
   "mimetype": "text/x-python",
   "name": "python",
   "nbconvert_exporter": "python",
   "pygments_lexer": "ipython3",
   "version": "3.10.8"
  }
 },
 "nbformat": 4,
 "nbformat_minor": 2
}
