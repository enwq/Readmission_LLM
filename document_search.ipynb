{
 "cells": [
  {
   "cell_type": "code",
   "execution_count": 1,
   "metadata": {},
   "outputs": [],
   "source": [
    "from langchain.vectorstores import FAISS\n",
    "from langchain_openai import AzureOpenAIEmbeddings\n",
    "from langchain.document_loaders import PyPDFLoader\n",
    "from openai import AzureOpenAI\n",
    "import os"
   ]
  },
  {
   "cell_type": "code",
   "execution_count": 2,
   "metadata": {},
   "outputs": [],
   "source": [
    "def extract_document_embeddings(document):\n",
    "    \"\"\"\n",
    "    Extract text embeddings for an input document in chunks and save the resulting vector db.\n",
    "    \"\"\"\n",
    "    loader = PyPDFLoader(f'rag_docs/{document}')\n",
    "    pages = loader.load_and_split()\n",
    "\n",
    "    embeddings = AzureOpenAIEmbeddings(\n",
    "        azure_deployment=\"MIMIC_text_embedding\",\n",
    "        openai_api_version=\"2024-02-15-preview\",\n",
    "    )\n",
    "\n",
    "    faiss_index = FAISS.from_documents(pages, embeddings)\n",
    "    faiss_index.save_local(f'data/{document[:-4]}_faiss_db')"
   ]
  },
  {
   "cell_type": "code",
   "execution_count": 3,
   "metadata": {},
   "outputs": [],
   "source": [
    "def rag_generation(document,question):\n",
    "    \"\"\"\n",
    "    Perform RAG generation for the question on the given document.\n",
    "    \"\"\"\n",
    "    embeddings = AzureOpenAIEmbeddings(\n",
    "            azure_deployment=\"MIMIC_text_embedding\",\n",
    "            openai_api_version=\"2024-02-15-preview\",\n",
    "        )\n",
    "    faiss_index = FAISS.load_local(f'data/{document[:-4]}_faiss_db', embeddings,allow_dangerous_deserialization=True)\n",
    "    \n",
    "    docs = faiss_index.similarity_search(question)\n",
    "    # Get the best matched page\n",
    "    full_text = docs[0].page_content\n",
    "\n",
    "    # Summarize the information\n",
    "    prompt = f\"\"\"Using the following information below, you are asked to answer the user's question.\n",
    "\n",
    "    {full_text}\n",
    "\n",
    "    Answer:\"\"\"\n",
    "    \n",
    "    client = client = AzureOpenAI(\n",
    "    api_key=os.getenv(\"AZURE_OPENAI_API_KEY\"),  \n",
    "    api_version=\"2024-02-15-preview\",\n",
    "    azure_endpoint = os.getenv(\"AZURE_OPENAI_ENDPOINT\")\n",
    "    )\n",
    "    \n",
    "    response = client.chat.completions.create(\n",
    "        model=\"MIMIC\",\n",
    "        messages=[\n",
    "            {\"role\": \"system\", \"content\": f\"{prompt}\"},\n",
    "            {\"role\": \"user\", \"content\": f\"{question}\"}\n",
    "        ]\n",
    "    )\n",
    "\n",
    "    answer = response.choices[0].message.content\n",
    "\n",
    "    return answer"
   ]
  },
  {
   "cell_type": "code",
   "execution_count": 4,
   "metadata": {},
   "outputs": [
    {
     "name": "stdout",
     "output_type": "stream",
     "text": [
      "The risk score algorithm is developed through an approach that efficiently produces a collection of high-quality risk scores learned from data. The algorithm uses a beam-search algorithm to generate a pool of almost-optimal sparse continuous solutions, each with a different support set. Then, each continuous solution is transformed into a separate risk score through a \"star ray\" search, where a range of multipliers are considered before rounding the coefficients sequentially to maintain low logistic loss. The algorithm returns all of these high-quality risk scores for the user to consider. This method completes within minutes and can be valuable in a broad variety of applications.\n"
     ]
    }
   ],
   "source": [
    "extract_document_embeddings(\"FasterRisk.pdf\")\n",
    "answer = rag_generation(\"FasterRisk.pdf\", \"How is the risk score algorithm developed?\")\n",
    "print(answer)"
   ]
  }
 ],
 "metadata": {
  "kernelspec": {
   "display_name": "Python 3",
   "language": "python",
   "name": "python3"
  },
  "language_info": {
   "codemirror_mode": {
    "name": "ipython",
    "version": 3
   },
   "file_extension": ".py",
   "mimetype": "text/x-python",
   "name": "python",
   "nbconvert_exporter": "python",
   "pygments_lexer": "ipython3",
   "version": "3.10.8"
  }
 },
 "nbformat": 4,
 "nbformat_minor": 2
}
