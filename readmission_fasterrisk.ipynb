{
 "cells": [
  {
   "cell_type": "markdown",
   "metadata": {},
   "source": [
    "# Readmission Prediction with FasterRisk risk score"
   ]
  },
  {
   "cell_type": "code",
   "execution_count": 1,
   "metadata": {},
   "outputs": [],
   "source": [
    "import pandas as pd\n",
    "import numpy as np\n",
    "from imblearn.over_sampling import RandomOverSampler\n",
    "from fasterrisk.fasterrisk import RiskScoreOptimizer, RiskScoreClassifier\n",
    "from fasterrisk.binarization_util import convert_continuous_df_to_binary_df\n",
    "from sklearn.metrics import confusion_matrix,roc_auc_score\n",
    "import joblib"
   ]
  },
  {
   "cell_type": "markdown",
   "metadata": {},
   "source": [
    "## Load data"
   ]
  },
  {
   "cell_type": "code",
   "execution_count": 2,
   "metadata": {},
   "outputs": [
    {
     "name": "stdout",
     "output_type": "stream",
     "text": [
      "Converting continuous features to binary features in the dataframe......\n",
      "If a feature has more than 100 unqiue values, we pick the threasholds by selecting 100 quantile points. You can change the number of thresholds by passing another specified number: convert_continuous_df_to_binary_df(df, num_quantiles=50).\n",
      "Finish converting continuous features to binary features......\n",
      "Converting continuous features to binary features in the dataframe......\n",
      "If a feature has more than 100 unqiue values, we pick the threasholds by selecting 100 quantile points. You can change the number of thresholds by passing another specified number: convert_continuous_df_to_binary_df(df, num_quantiles=50).\n",
      "Finish converting continuous features to binary features......\n"
     ]
    }
   ],
   "source": [
    "# Load data\n",
    "training_data = pd.read_csv(\"data/Training_Data.csv\",index_col=0)\n",
    "testing_data = pd.read_csv(\"data/Testing_Data.csv\",index_col=0)\n",
    "# Fill nan ICU_LOS with 0 to avoid error in risk score computation\n",
    "training_data.fillna(value={'ICU_LOS':0},inplace=True)\n",
    "testing_data.fillna(value={'ICU_LOS':0},inplace=True)\n",
    "# Binarize continuous columns\n",
    "training_data_binarized = convert_continuous_df_to_binary_df(training_data)\n",
    "testing_data_binarized = convert_continuous_df_to_binary_df(testing_data)\n",
    "# Get features and labels\n",
    "X_train = training_data_binarized.iloc[:,:-1].astype(float).to_numpy()\n",
    "y_train = training_data_binarized.iloc[:,-1].astype(float).to_numpy()\n",
    "y_train[y_train == 0] = -1\n",
    "X_test = testing_data_binarized.iloc[:,:-1].astype(float).to_numpy()\n",
    "y_test = testing_data_binarized.iloc[:,-1].astype(float).to_numpy()\n",
    "y_test[y_test == 0] = -1"
   ]
  },
  {
   "cell_type": "markdown",
   "metadata": {},
   "source": [
    "## Oversample the minority class to balance the training data"
   ]
  },
  {
   "cell_type": "code",
   "execution_count": 3,
   "metadata": {},
   "outputs": [],
   "source": [
    "# Oversample the minority class\n",
    "sampler = RandomOverSampler(random_state=42)\n",
    "X_train_res, y_train_res = sampler.fit_resample(X_train, y_train)"
   ]
  },
  {
   "cell_type": "code",
   "execution_count": 4,
   "metadata": {},
   "outputs": [
    {
     "data": {
      "text/plain": [
       "(array([-1.,  1.]), array([30497,  1684]))"
      ]
     },
     "execution_count": 4,
     "metadata": {},
     "output_type": "execute_result"
    }
   ],
   "source": [
    "# Class distribution before oversampling\n",
    "np.unique(y_train,return_counts=True)"
   ]
  },
  {
   "cell_type": "code",
   "execution_count": 5,
   "metadata": {},
   "outputs": [
    {
     "data": {
      "text/plain": [
       "(array([-1.,  1.]), array([30497, 30497]))"
      ]
     },
     "execution_count": 5,
     "metadata": {},
     "output_type": "execute_result"
    }
   ],
   "source": [
    "# Class distribution after oversampling\n",
    "np.unique(y_train_res,return_counts=True)"
   ]
  },
  {
   "cell_type": "code",
   "execution_count": 6,
   "metadata": {},
   "outputs": [
    {
     "name": "stdout",
     "output_type": "stream",
     "text": [
      "(60994, 333)\n",
      "(13792, 333)\n"
     ]
    }
   ],
   "source": [
    "# Training and testing fata shape\n",
    "print(X_train_res.shape)\n",
    "print(X_test.shape)"
   ]
  },
  {
   "cell_type": "markdown",
   "metadata": {},
   "source": [
    "## Fit the FasterRisk risk score model"
   ]
  },
  {
   "cell_type": "code",
   "execution_count": 7,
   "metadata": {},
   "outputs": [],
   "source": [
    "# Fit a risk score model with 10 items\n",
    "optimizer = RiskScoreOptimizer(X = X_train_res, y = y_train_res, k = 10, parent_size = 10)\n",
    "optimizer.optimize()\n",
    "all_multipliers, all_intercepts, all_coefficients = optimizer.get_models()\n",
    "# Get the first model from 50 candidates \n",
    "multiplier = all_multipliers[0]\n",
    "intercept = all_intercepts[0]\n",
    "coefficients = all_coefficients[0]"
   ]
  },
  {
   "cell_type": "markdown",
   "metadata": {},
   "source": [
    "## Use the risk score model as a readmission classifier"
   ]
  },
  {
   "cell_type": "code",
   "execution_count": 8,
   "metadata": {},
   "outputs": [],
   "source": [
    "classifier = RiskScoreClassifier(multiplier, intercept, coefficients, X_train = X_train_res)\n",
    "y_test_pred = classifier.predict(X_test)\n",
    "y_test_pred_prob = classifier.predict_prob(X_test)"
   ]
  },
  {
   "cell_type": "code",
   "execution_count": 9,
   "metadata": {},
   "outputs": [
    {
     "name": "stdout",
     "output_type": "stream",
     "text": [
      "Confusion matrix: [[8052 5018]\n",
      " [ 316  406]]\n",
      "AUC: 0.625065119206828\n"
     ]
    }
   ],
   "source": [
    "# Get performance metrics\n",
    "print(\"Confusion matrix:\",confusion_matrix(y_test,y_test_pred))\n",
    "print(\"AUC:\",roc_auc_score(y_test,y_test_pred_prob))"
   ]
  },
  {
   "cell_type": "markdown",
   "metadata": {},
   "source": [
    "## Print and save the risk score model "
   ]
  },
  {
   "cell_type": "code",
   "execution_count": 10,
   "metadata": {},
   "outputs": [
    {
     "name": "stdout",
     "output_type": "stream",
     "text": [
      "The Risk Score is:\n",
      "1.      LOS<=4.642013888888889     -2 point(s) |   ...\n",
      "2.     LOS<=10.227694444444445     -2 point(s) | + ...\n",
      "3.                       supp1      2 point(s) | + ...\n",
      "4.                         ICU     -5 point(s) | + ...\n",
      "5. ICU_LOS<=12.045539999999999     -3 point(s) | + ...\n",
      "6.               ADM_EMERGENCY      2 point(s) | + ...\n",
      "7.                 INS_Private     -1 point(s) | + ...\n",
      "8.  ETH_BLACK/AFRICAN AMERICAN      2 point(s) | + ...\n",
      "9.           ETH_OTHER/UNKNOWN     -3 point(s) | + ...\n",
      "10.       MAR_UNKNOWN (DEFAULT)     -4 point(s) | + ...\n",
      "                                         SCORE | =    \n",
      "SCORE |  -20.0  |  -19.0  |  -18.0  |  -17.0  |  -16.0  |  -15.0  |  -14.0  |  -13.0  |  -12.0  |  -11.0  |  -10.0  |  -9.0  |  -8.0  |  -7.0  |\n",
      "RISK  |   7.3% |   8.7% |  10.4% |  12.4% |  14.6% |  17.3% |  20.2% |  23.6% |  27.3% |  31.3% |  35.7% |  40.3% |  45.1% |  50.0% |\n",
      "SCORE |  -6.0  |  -5.0  |  -4.0  |  -3.0  |  -2.0  |  -1.0  |   0.0  |   1.0  |   2.0  |   3.0  |   4.0  |   5.0  |   6.0  |\n",
      "RISK  |  54.9% |  59.7% |  64.3% |  68.7% |  72.7% |  76.4% |  79.8% |  82.7% |  85.4% |  87.6% |  89.6% |  91.3% |  92.7% |\n"
     ]
    }
   ],
   "source": [
    "feature_names = list(training_data_binarized.columns[:-1])\n",
    "classifier.reset_featureNames(feature_names)\n",
    "classifier.print_model_card()"
   ]
  },
  {
   "cell_type": "code",
   "execution_count": 11,
   "metadata": {},
   "outputs": [
    {
     "data": {
      "text/plain": [
       "['data/faster_risk.pkl']"
      ]
     },
     "execution_count": 11,
     "metadata": {},
     "output_type": "execute_result"
    }
   ],
   "source": [
    "# Save model\n",
    "joblib.dump(classifier, 'data/faster_risk.pkl')"
   ]
  }
 ],
 "metadata": {
  "kernelspec": {
   "display_name": "Python 3",
   "language": "python",
   "name": "python3"
  },
  "language_info": {
   "codemirror_mode": {
    "name": "ipython",
    "version": 3
   },
   "file_extension": ".py",
   "mimetype": "text/x-python",
   "name": "python",
   "nbconvert_exporter": "python",
   "pygments_lexer": "ipython3",
   "version": "3.10.8"
  }
 },
 "nbformat": 4,
 "nbformat_minor": 2
}
